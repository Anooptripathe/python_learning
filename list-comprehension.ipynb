{
 "cells": [
  {
   "cell_type": "markdown",
   "id": "f495318d",
   "metadata": {},
   "source": [
    "<h3> Find all number between 1 to 200 that are divisible by 7 </h3>"
   ]
  },
  {
   "cell_type": "code",
   "execution_count": 1,
   "id": "65ebff22",
   "metadata": {},
   "outputs": [
    {
     "name": "stdout",
     "output_type": "stream",
     "text": [
      "[7, 14, 21, 28, 35, 42, 49, 56, 63, 70, 77, 84, 91, 98, 105, 112, 119, 126, 133, 140, 147, 154, 161, 168, 175, 182, 189, 196]\n"
     ]
    }
   ],
   "source": [
    "result=[num for num in range(1,201) if num%7==0]\n",
    "print(result)"
   ]
  },
  {
   "cell_type": "markdown",
   "id": "c31d329b",
   "metadata": {},
   "source": [
    "<h3> Find all number between 1 to 200 that have 3 in them.</h3>"
   ]
  },
  {
   "cell_type": "code",
   "execution_count": 2,
   "id": "ab1d04ee",
   "metadata": {},
   "outputs": [
    {
     "name": "stdout",
     "output_type": "stream",
     "text": [
      "[3, 13, 23, 30, 31, 32, 33, 34, 35, 36, 37, 38, 39, 43, 53, 63, 73, 83, 93, 103, 113, 123, 130, 131, 132, 133, 134, 135, 136, 137, 138, 139, 143, 153, 163, 173, 183, 193]\n"
     ]
    }
   ],
   "source": [
    "result=[n for n in range(1,201) if '3' in str(n)]\n",
    "print(result)"
   ]
  },
  {
   "cell_type": "markdown",
   "id": "a4cda371",
   "metadata": {},
   "source": [
    "<h3>Count number of spaces in string. </h3>"
   ]
  },
  {
   "cell_type": "code",
   "execution_count": 6,
   "id": "d57fdc70",
   "metadata": {},
   "outputs": [
    {
     "name": "stdout",
     "output_type": "stream",
     "text": [
      "9\n"
     ]
    }
   ],
   "source": [
    "some_string='the slow solid squid swam sumptuously through the slimy swamp'\n",
    "result=[s for s in some_string if s==' ']\n",
    "print(len(result))"
   ]
  },
  {
   "cell_type": "markdown",
   "id": "3bc44240",
   "metadata": {},
   "source": [
    "<h3>Create a list of all consonants. </h3>"
   ]
  },
  {
   "cell_type": "code",
   "execution_count": 7,
   "id": "4b5c9357",
   "metadata": {},
   "outputs": [
    {
     "name": "stdout",
     "output_type": "stream",
     "text": [
      "['y', 'l', 'l', 'w', ' ', 'y', 'k', 's', ' ', 'l', 'k', ' ', 'y', 'l', 'l', 'n', 'g', ' ', 'n', 'd', ' ', 'y', 'w', 'n', 'n', 'g', ' ', 'n', 'd', ' ', 'y', 's', 't', 'r', 'd', 'y', ' ', 't', 'h', 'y', ' ', 'y', 'd', 'l', 'd', ' ', 'w', 'h', 'l', ' ', 't', 'n', 'g', ' ', 'y', 'k', 'y', ' ', 'y', 'm', 's']\n"
     ]
    }
   ],
   "source": [
    "some_string='Yellow Yaks like yelling and yawning and yesterday they yodled while eating yuky yams'\n",
    "vowels=['a','e','i','o','u']\n",
    "some_string=some_string.lower()\n",
    "consonants=[ch for ch in some_string if ch not in vowels]\n",
    "print(consonants)"
   ]
  },
  {
   "cell_type": "markdown",
   "id": "25adcecc",
   "metadata": {},
   "source": [
    "<h3>Get the result like tuple (index,value) from given list.</h3>"
   ]
  },
  {
   "cell_type": "code",
   "execution_count": 8,
   "id": "c07764d5",
   "metadata": {},
   "outputs": [
    {
     "name": "stdout",
     "output_type": "stream",
     "text": [
      "[(0, 'hi'), (1, 4), (2, 8.99), (3, 'apple'), (4, ('t,b', 'n'))]\n"
     ]
    }
   ],
   "source": [
    "lists=[\"hi\",4,8.99,'apple',('t,b','n')]\n",
    "result=[(tuple([i,lists[i]])) for i in range(len(lists))]\n",
    "print(result)"
   ]
  },
  {
   "cell_type": "code",
   "execution_count": 11,
   "id": "31e36c64",
   "metadata": {},
   "outputs": [
    {
     "name": "stdout",
     "output_type": "stream",
     "text": [
      "((0, 'hi'), (1, 4), (2, 8.99), (3, 'apple'), (4, ('t,b', 'n')))\n",
      "<class 'tuple'>\n"
     ]
    }
   ],
   "source": [
    "result=[(index,item) for index,item in enumerate(lists)]\n",
    "result=tuple(result)\n",
    "print(result)\n",
    "print(type(result))"
   ]
  },
  {
   "cell_type": "markdown",
   "id": "a49842e6",
   "metadata": {},
   "source": [
    "</h3>Common number in two lists.</h3>"
   ]
  },
  {
   "cell_type": "code",
   "execution_count": 13,
   "id": "bf6a6cfb",
   "metadata": {},
   "outputs": [
    {
     "name": "stdout",
     "output_type": "stream",
     "text": [
      "[2, 3, 4]\n"
     ]
    }
   ],
   "source": [
    "list_a=[1,2,3,4]\n",
    "list_b=[2,3,4,5]\n",
    "common_list=[i for i in list_a if i in list_b]\n",
    "print(common_list)"
   ]
  },
  {
   "cell_type": "markdown",
   "id": "cc07cd19",
   "metadata": {},
   "source": [
    "<h3>Get only the number in sentence.</h3>"
   ]
  },
  {
   "cell_type": "code",
   "execution_count": 15,
   "id": "88bde3c6",
   "metadata": {},
   "outputs": [
    {
     "name": "stdout",
     "output_type": "stream",
     "text": [
      "['In', '1984', 'there', 'were', '13', 'instances', 'of', 'a', 'protest', 'with', 'over', '1000', 'people', 'attending']\n",
      "['1984', '13', '1000']\n"
     ]
    }
   ],
   "source": [
    "sentence='In 1984 there were 13 instances of a protest with over 1000 people attending'\n",
    "words=sentence.split()\n",
    "print(words)\n",
    "result=[num for num in words if not num.isalpha()]\n",
    "print(result)"
   ]
  },
  {
   "cell_type": "markdown",
   "id": "7747db00",
   "metadata": {},
   "source": [
    "<h3>Produce a list containing word 'even' and 'odd'. Result would look like 'odd','odd','even'.</h3>"
   ]
  },
  {
   "cell_type": "code",
   "execution_count": null,
   "id": "ee7bdd6d",
   "metadata": {},
   "outputs": [
    {
     "name": "stdout",
     "output_type": "stream",
     "text": [
      "['odd', 'even', 'odd', 'even', 'odd', 'even', 'odd', 'even', 'odd', 'even', 'odd', 'even', 'odd', 'even', 'odd', 'even', 'odd', 'even', 'odd', 'even']\n"
     ]
    }
   ],
   "source": [
    "result=[]\n",
    "for i in range(1,21):\n",
    "    if i%2==1:\n",
    "        result.append('odd')\n",
    "    else:\n",
    "        result.append('even')\n",
    "print(result)\n",
    "\n",
    "    "
   ]
  },
  {
   "cell_type": "code",
   "execution_count": 2,
   "id": "d7fc34f8",
   "metadata": {},
   "outputs": [
    {
     "name": "stdout",
     "output_type": "stream",
     "text": [
      "['odd', 'even', 'odd', 'even', 'odd', 'even', 'odd', 'even', 'odd', 'even', 'odd', 'even', 'odd', 'even', 'odd', 'even', 'odd', 'even', 'odd', 'even']\n"
     ]
    }
   ],
   "source": [
    "odd_even=[\"even\" if n%2==0 else \"odd\" for n in range(1,21)]\n",
    "print(odd_even)"
   ]
  },
  {
   "cell_type": "markdown",
   "id": "8c55c0a9",
   "metadata": {},
   "source": [
    "<h3>Produce a list of tuples consisting only matching number in the list. </h3>"
   ]
  },
  {
   "cell_type": "code",
   "execution_count": 4,
   "id": "13906d72",
   "metadata": {},
   "outputs": [
    {
     "name": "stdout",
     "output_type": "stream",
     "text": [
      "[(1, 1), (2, 2), (7, 7)]\n"
     ]
    }
   ],
   "source": [
    "list_a=[1,2,3,4,5,6,7,8,9,10,12]\n",
    "list_b=[2,7,1,14]\n",
    "common_list=[(tuple([i,i])) for i in list_a if i in list_b]\n",
    "print(common_list)"
   ]
  },
  {
   "cell_type": "markdown",
   "id": "b9dea799",
   "metadata": {},
   "source": [
    "<h3>Find all words in string that are less than 4 letters.</h3>"
   ]
  },
  {
   "cell_type": "code",
   "execution_count": 6,
   "id": "e8f71fce",
   "metadata": {},
   "outputs": [
    {
     "name": "stdout",
     "output_type": "stream",
     "text": [
      "['Lets', 'try', 'to', 'explore', 'new', 'technology', 'as', 'AI', 'is', 'booming', 'in', 'job', 'market']\n",
      "['try', 'to', 'new', 'as', 'AI', 'is', 'in', 'job']\n"
     ]
    }
   ],
   "source": [
    "stri=\"Lets try to explore new technology as AI is booming in job market\"\n",
    "words=stri.split(' ')\n",
    "print(words)\n",
    "result=[word for word in words if len(word)<4]\n",
    "print(result)"
   ]
  },
  {
   "cell_type": "markdown",
   "id": "f859a938",
   "metadata": {},
   "source": [
    "<h3>Use a nested list comprehension to find all number from 1 to 1000 that are divisible by any single digit except 1.</h3>"
   ]
  },
  {
   "cell_type": "code",
   "execution_count": 7,
   "id": "641678da",
   "metadata": {},
   "outputs": [
    {
     "name": "stdout",
     "output_type": "stream",
     "text": [
      "[2, 3, 4, 5, 6, 7, 8, 9, 10, 12, 14, 15, 16, 18, 20, 21, 22, 24, 25, 26, 27, 28, 30, 32, 33, 34, 35, 36, 38, 39, 40, 42, 44, 45, 46, 48, 49, 50, 51, 52, 54, 55, 56, 57, 58, 60, 62, 63, 64, 65, 66, 68, 69, 70, 72, 74, 75, 76, 77, 78, 80, 81, 82, 84, 85, 86, 87, 88, 90, 91, 92, 93, 94, 95, 96, 98, 99, 100]\n"
     ]
    }
   ],
   "source": [
    "result=list(set([n for n in range(1,101) for y in range(2,10) if n%y==0]))\n",
    "print(result)"
   ]
  },
  {
   "cell_type": "code",
   "execution_count": null,
   "id": "320e0eea",
   "metadata": {},
   "outputs": [],
   "source": []
  }
 ],
 "metadata": {
  "kernelspec": {
   "display_name": "venv",
   "language": "python",
   "name": "python3"
  },
  "language_info": {
   "codemirror_mode": {
    "name": "ipython",
    "version": 3
   },
   "file_extension": ".py",
   "mimetype": "text/x-python",
   "name": "python",
   "nbconvert_exporter": "python",
   "pygments_lexer": "ipython3",
   "version": "3.11.0"
  }
 },
 "nbformat": 4,
 "nbformat_minor": 5
}
